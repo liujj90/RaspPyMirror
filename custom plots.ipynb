{
 "cells": [
  {
   "cell_type": "code",
   "execution_count": 3,
   "metadata": {},
   "outputs": [],
   "source": [
    "import matplotlib.pyplot as plt\n",
    "import pandas as pd\n",
    "import seaborn as sns\n",
    "import numpy as np\n",
    "%matplotlib inline"
   ]
  },
  {
   "cell_type": "code",
   "execution_count": 4,
   "metadata": {},
   "outputs": [],
   "source": [
    "temp = np.random.randint(10,20,24)\n",
    "precip = np.random.random_sample(24)\n",
    "time = [i for i in range(24)]\n",
    "\n",
    "df = pd.DataFrame({'Temperature': temp,\n",
    "                  'Precipitation': precip,\n",
    "                  'Time': time})"
   ]
  },
  {
   "cell_type": "code",
   "execution_count": 9,
   "metadata": {},
   "outputs": [],
   "source": [
    "#only evens\n",
    "hourslabel = []\n",
    "for i in time:\n",
    "    if i % 2 == 0:\n",
    "        hourslabel.append(str(i))\n",
    "    else:\n",
    "        hourslabel.append('')"
   ]
  },
  {
   "cell_type": "code",
   "execution_count": 34,
   "metadata": {},
   "outputs": [
    {
     "data": {
      "text/plain": [
       "([<matplotlib.axis.XTick at 0x10a31dba8>,\n",
       "  <matplotlib.axis.XTick at 0x10a32ce80>,\n",
       "  <matplotlib.axis.XTick at 0x10a322860>,\n",
       "  <matplotlib.axis.XTick at 0x10a380780>,\n",
       "  <matplotlib.axis.XTick at 0x10a380eb8>,\n",
       "  <matplotlib.axis.XTick at 0x10a387668>,\n",
       "  <matplotlib.axis.XTick at 0x10a387dd8>,\n",
       "  <matplotlib.axis.XTick at 0x10a38b588>,\n",
       "  <matplotlib.axis.XTick at 0x10a38bcf8>,\n",
       "  <matplotlib.axis.XTick at 0x10a38f4a8>,\n",
       "  <matplotlib.axis.XTick at 0x10a38fc18>,\n",
       "  <matplotlib.axis.XTick at 0x10a3963c8>,\n",
       "  <matplotlib.axis.XTick at 0x10a396b38>,\n",
       "  <matplotlib.axis.XTick at 0x10a3992e8>,\n",
       "  <matplotlib.axis.XTick at 0x10a399a58>,\n",
       "  <matplotlib.axis.XTick at 0x10a3a1208>,\n",
       "  <matplotlib.axis.XTick at 0x10a3a1978>,\n",
       "  <matplotlib.axis.XTick at 0x10a3a5128>,\n",
       "  <matplotlib.axis.XTick at 0x10a3a5898>,\n",
       "  <matplotlib.axis.XTick at 0x10a3ac048>,\n",
       "  <matplotlib.axis.XTick at 0x10a3ac7b8>,\n",
       "  <matplotlib.axis.XTick at 0x10a3acf28>,\n",
       "  <matplotlib.axis.XTick at 0x10a3b16d8>,\n",
       "  <matplotlib.axis.XTick at 0x10a3b1e48>],\n",
       " <a list of 24 Text xticklabel objects>)"
      ]
     },
     "execution_count": 34,
     "metadata": {},
     "output_type": "execute_result"
    },
    {
     "data": {
      "image/png": "[encoded data removed]",
      "text/plain": [
       "<matplotlib.figure.Figure at 0x10a2a1240>"
      ]
     },
     "metadata": {},
     "output_type": "display_data"
    }
   ],
   "source": [
    "sns.set(rc = {'axes.facecolor':'black',\n",
    "              'figure.facecolor':'black',\n",
    "              'axes.grid': True,\n",
    "              'axes.labelcolor':'white', \n",
    "              'xtick.color':'white', \n",
    "              'ytick.color':'white'}, palette = 'Blues',font_scale =1.2)\n",
    "plt.subplot(2,1,1)\n",
    "plt.plot(df['Time'], df['Temperature'], 'o')\n",
    "plt.xticks(df['Time'], hourslabel)\n",
    "plt.ylabel('Temperature')\n",
    "plt.subplot(2,1,2)\n",
    "plt.plot(df['Time'], df['Precipitation'], 'o')\n",
    "plt.ylabel('Precipitation')\n",
    "plt.xticks(df['Time'], hourslabel)\n"
   ]
  },
  {
   "cell_type": "code",
   "execution_count": null,
   "metadata": {
    "collapsed": true
   },
   "outputs": [],
   "source": []
  }
 ],
 "metadata": {
  "kernelspec": {
   "display_name": "Python 3",
   "language": "python",
   "name": "python3"
  },
  "language_info": {
   "codemirror_mode": {
    "name": "ipython",
    "version": 3
   },
   "file_extension": ".py",
   "mimetype": "text/x-python",
   "name": "python",
   "nbconvert_exporter": "python",
   "pygments_lexer": "ipython3",
   "version": "3.6.0"
  }
 },
 "nbformat": 4,
 "nbformat_minor": 2
}
